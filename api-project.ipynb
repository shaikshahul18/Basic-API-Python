{
 "cells": [
  {
   "cell_type": "code",
   "execution_count": 23,
   "metadata": {},
   "outputs": [],
   "source": [
    "import requests\n",
    "import random\n",
    "import pyfiglet"
   ]
  },
  {
   "cell_type": "code",
   "execution_count": 26,
   "metadata": {},
   "outputs": [
    {
     "name": "stdout",
     "output_type": "stream",
     "text": [
      " ____    _    ____        _  ___  _  _______ ____  _ _ \n",
      "|  _ \\  / \\  |  _ \\      | |/ _ \\| |/ / ____/ ___|| | |\n",
      "| | | |/ _ \\ | | | |  _  | | | | | ' /|  _| \\___ \\| | |\n",
      "| |_| / ___ \\| |_| | | |_| | |_| | . \\| |___ ___) |_|_|\n",
      "|____/_/   \\_\\____/   \\___/ \\___/|_|\\_\\_____|____/(_|_)\n",
      "                                                       \n",
      "\n",
      "Let me tell you a joke! Pick a topic: dad\n",
      "I have got 20 jokes about dad , and here's one: \n",
      "\n",
      "Where’s the bin? Dad: I haven’t been anywhere!\n"
     ]
    }
   ],
   "source": [
    "header = pyfiglet.figlet_format(\"DAD JOKES!!\")\n",
    "print(header)\n",
    "topic = input(\"Let me tell you a joke! Pick a topic: \")\n",
    "url = \"https://icanhazdadjoke.com/search\"\n",
    "response = requests.get(url,\n",
    "                        headers = {\"Accept\":\"application/json\"},\n",
    "                        params = {\"term\":topic,\n",
    "                                 \"limit\":30}\n",
    ")\n",
    "\n",
    "jokes = response.json()['results']\n",
    "length = len(jokes)\n",
    "random_joke_num = random.randint(1,length)\n",
    "if length == 0:\n",
    "    print(f\"Sorry I don't have any jokes about {topic} \\n\")\n",
    "elif length == 1:\n",
    "    print(f\"I have got 1 joke about {topic} , here it is! \\n\")\n",
    "    print(jokes[0]['joke'])\n",
    "else:\n",
    "    print(f\"I have got {length} jokes about {topic} , and here's one: \\n\")\n",
    "    print(jokes[random_joke_num]['joke'])"
   ]
  },
  {
   "cell_type": "code",
   "execution_count": null,
   "metadata": {},
   "outputs": [],
   "source": []
  }
 ],
 "metadata": {
  "kernelspec": {
   "display_name": "Python 3",
   "language": "python",
   "name": "python3"
  },
  "language_info": {
   "codemirror_mode": {
    "name": "ipython",
    "version": 3
   },
   "file_extension": ".py",
   "mimetype": "text/x-python",
   "name": "python",
   "nbconvert_exporter": "python",
   "pygments_lexer": "ipython3",
   "version": "3.8.5"
  }
 },
 "nbformat": 4,
 "nbformat_minor": 4
}
